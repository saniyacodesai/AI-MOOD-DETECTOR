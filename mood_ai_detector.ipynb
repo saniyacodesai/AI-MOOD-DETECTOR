{
  "nbformat": 4,
  "nbformat_minor": 0,
  "metadata": {
    "colab": {
      "provenance": []
    },
    "kernelspec": {
      "name": "python3",
      "display_name": "Python 3"
    },
    "language_info": {
      "name": "python"
    }
  },
  "cells": [
    {
      "cell_type": "code",
      "source": [
        "# Step 1: Import libraries\n",
        "import pandas as pd\n",
        "from sklearn.model_selection import train_test_split\n",
        "from sklearn.feature_extraction.text import CountVectorizer\n",
        "from sklearn.naive_bayes import MultinomialNB\n",
        "\n",
        "# Step 2: Load your CSV dataset\n",
        "data = pd.read_csv(\"mood_data.csv\")\n",
        "\n",
        "# Step 3: Convert TEXT to numbers\n",
        "vectorizer = CountVectorizer()\n",
        "X = vectorizer.fit_transform(data['TEXT'])\n",
        "y = data['MOOD']\n",
        "\n",
        "# Step 4: Train the model\n",
        "X_train, X_test, y_train, y_test = train_test_split(X, y, test_size=0.2)\n",
        "model = MultinomialNB()\n",
        "model.fit(X_train, y_train)\n",
        "\n",
        "# Step 5: Test your AI\n",
        "user_input = [\"I am not sad nor happy!\"]\n",
        "user_input_vector = vectorizer.transform(user_input)\n",
        "print(\"Mood detected:\", model.predict(user_input_vector)[0])"
      ],
      "metadata": {
        "colab": {
          "base_uri": "https://localhost:8080/"
        },
        "id": "_ZMGe60GLX4y",
        "outputId": "a4e6372b-a418-4ac4-bbd3-65d7cb460d20"
      },
      "execution_count": null,
      "outputs": [
        {
          "output_type": "stream",
          "name": "stdout",
          "text": [
            "Mood detected: neutral\n"
          ]
        }
      ]
    }
  ]
}